{
 "cells": [
  {
   "cell_type": "markdown",
   "metadata": {},
   "source": [
    "### Input Variables"
   ]
  },
  {
   "cell_type": "code",
   "execution_count": 12,
   "metadata": {},
   "outputs": [],
   "source": [
    "# Username is used for finding your folder eg. c/users/whittlj2\n",
    "username = 'whittlj2'\n",
    "\n",
    "# Path for input data\n",
    "path = 'input.xlsx'\n",
    "outputfilename = 'OUTPUT-'\n",
    "\n",
    "# Output filetype\n",
    "filetype = '.txt'\n",
    "\n",
    "#import libraries\n",
    "import os\n",
    "import datetime\n",
    "import pandas as pd"
   ]
  },
  {
   "cell_type": "code",
   "execution_count": 13,
   "metadata": {},
   "outputs": [],
   "source": [
    "# Create Activate Code file\n",
    "outfilp = r'C:\\Users\\\\'\n",
    "outfilp = outfilp + username + '\\\\'\n",
    "outputfilename = '-OUTPUT-ACTIVATE-CODE-'\n",
    "datetime_str = str(datetime.datetime.now())\n",
    "datetime_str = datetime_str.replace('.', '_')\n",
    "datetime_str = datetime_str.replace(':', '-')\n",
    "outputfilename = outfilp + datetime_str + outputfilename + filetype\n",
    "outputfilename = str(outputfilename)\n",
    "\n",
    "# CCL Code\n",
    "ccl_code = [\n",
    "'; USER RE-ACTIVATION SCRIPT',\n",
    "'update into prsnl p',\n",
    "'set p.end_effective_dt_tm = cnvtdatetime(\"31-DEC-2100\")',\n",
    "', p.updt_dt_tm = cnvtdatetime(curdate,curtime3)',\n",
    "', p.updt_id = reqinfo->updt_id',\n",
    "', p.updt_cnt = p.updt_cnt + 1',\n",
    "'where p.username = \"SWAPME123\"',\n",
    "''\n",
    "]\n",
    "\n",
    "# READ CSV FILE\n",
    "input_data = pd.read_excel(path, sheet_name= 'DATA' )\n",
    "\n",
    "# WRITE CODE TO TXT FILE\n",
    "for index, row in input_data.iterrows():\n",
    "    # Column that has the usernames to put in the code\n",
    "    to_switch = row['USERNAME']\n",
    "    #Write to file\n",
    "    for a_row in ccl_code:\n",
    "        # REPLACE SWAPME123 with the username in each row of the code slab\n",
    "        new_row = a_row.replace('SWAPME123', to_switch)\n",
    "        f = open(outputfilename, \"a\")\n",
    "        f.write(new_row + '\\n')\n",
    "f.close()"
   ]
  }
 ],
 "metadata": {
  "kernelspec": {
   "display_name": "Python 3.9.13 64-bit (windows store)",
   "language": "python",
   "name": "python3"
  },
  "language_info": {
   "codemirror_mode": {
    "name": "ipython",
    "version": 3
   },
   "file_extension": ".py",
   "mimetype": "text/x-python",
   "name": "python",
   "nbconvert_exporter": "python",
   "pygments_lexer": "ipython3",
   "version": "3.9.13"
  },
  "orig_nbformat": 4,
  "vscode": {
   "interpreter": {
    "hash": "0d8a354d9faeed0e741e88709d0ca4cfdcbab2911b6a97752e1a88b65797b277"
   }
  }
 },
 "nbformat": 4,
 "nbformat_minor": 2
}
