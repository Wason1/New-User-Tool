{
 "cells": [
  {
   "cell_type": "markdown",
   "metadata": {},
   "source": [
    "### Input Variables"
   ]
  },
  {
   "cell_type": "code",
   "execution_count": 14,
   "metadata": {},
   "outputs": [],
   "source": [
    "# Username is used for finding your folder eg. c/users/whittlj2\n",
    "username = 'whittlj2'\n",
    "\n",
    "# Path for input data\n",
    "path = 'input.xlsx'\n",
    "\n",
    "# Output filetype for CCL and authview code\n",
    "filetype = '.txt'\n",
    "\n",
    "#import libraries\n",
    "import os\n",
    "import datetime\n",
    "import pandas as pd"
   ]
  },
  {
   "cell_type": "markdown",
   "metadata": {},
   "source": [
    "### CCL Activate Code file"
   ]
  },
  {
   "cell_type": "code",
   "execution_count": 15,
   "metadata": {},
   "outputs": [],
   "source": [
    "# Create Activate Code file\n",
    "outfilp = r'C:\\Users\\\\'\n",
    "outfilp = outfilp + username + '\\\\'\n",
    "outputfilename = '-ACTIVATE-CODE-'\n",
    "datetime_str = str(datetime.datetime.now())\n",
    "datetime_str = datetime_str.replace('.', '_')\n",
    "datetime_str = datetime_str.replace(':', '-')\n",
    "outputfilename = outfilp + datetime_str + outputfilename + filetype\n",
    "outputfilename = str(outputfilename)\n",
    "\n",
    "# CCL Code\n",
    "ccl_code = [\n",
    "'; USER RE-ACTIVATION SCRIPT',\n",
    "'update into prsnl p',\n",
    "'set p.end_effective_dt_tm = cnvtdatetime(\"31-DEC-2100\")',\n",
    "', p.updt_dt_tm = cnvtdatetime(curdate,curtime3)',\n",
    "', p.updt_id = reqinfo->updt_id',\n",
    "', p.updt_cnt = p.updt_cnt + 1',\n",
    "'where p.username = \"SWAPME123\"',\n",
    "''\n",
    "]\n",
    "\n",
    "# READ CSV FILE\n",
    "input_data = pd.read_excel(path, sheet_name= 'DATA', dtype= 'str' )\n",
    "\n",
    "# WRITE CODE TO TXT FILE\n",
    "for index, row in input_data.iterrows():\n",
    "    # Column that has the usernames to put in the code\n",
    "    a = row['USERNAME']\n",
    "    #Write to file\n",
    "    for a_row in ccl_code:\n",
    "        # REPLACE SWAPME123 with the username in each row of the code slab\n",
    "        new_row = a_row.replace('SWAPME123', to_switch)\n",
    "        f = open(outputfilename, \"a\")\n",
    "        f.write(new_row + '\\n')\n",
    "f.close()\n"
   ]
  },
  {
   "cell_type": "markdown",
   "metadata": {},
   "source": [
    "### Authview Code"
   ]
  },
  {
   "cell_type": "code",
   "execution_count": 19,
   "metadata": {},
   "outputs": [],
   "source": [
    "# Create Authview file\n",
    "outfilp = r'C:\\Users\\\\'\n",
    "outfilp = outfilp + username + '\\\\'\n",
    "outputfilename = '-AUTHVIEW-CODE-'\n",
    "datetime_str = str(datetime.datetime.now())\n",
    "datetime_str = datetime_str.replace('.', '_')\n",
    "datetime_str = datetime_str.replace(':', '-')\n",
    "outputfilename = outfilp + datetime_str + outputfilename + filetype\n",
    "outputfilename = str(outputfilename)\n",
    "\n",
    "# CCL Code\n",
    "authview_code = [\n",
    "'modify SWAPME123 -directoryind y'\n",
    "]\n",
    "\n",
    "# READ CSV FILE\n",
    "input_data = pd.read_excel(path, sheet_name= 'DATA', dtype= 'str' )\n",
    "\n",
    "# WRITE CODE TO TXT FILE\n",
    "for index, row in input_data.iterrows():\n",
    "    # Column that has the usernames to put in the code\n",
    "    to_switch = row['USERNAME']\n",
    "    #Write to file\n",
    "    for a_row in authview_code:\n",
    "        # REPLACE SWAPME123 with the username in each row of the code slab\n",
    "        new_row = a_row.replace('SWAPME123', to_switch)\n",
    "        f = open(outputfilename, \"a\")\n",
    "        f.write(new_row + '\\n')\n",
    "f.close()"
   ]
  },
  {
   "cell_type": "markdown",
   "metadata": {},
   "source": [
    "### CCL Credential Code file"
   ]
  },
  {
   "cell_type": "code",
   "execution_count": 21,
   "metadata": {},
   "outputs": [],
   "source": [
    "# Create Credential Code file\n",
    "outfilp = r'C:\\Users\\\\'\n",
    "outfilp = outfilp + username + '\\\\'\n",
    "outputfilename = '-CREDENTIAL-CODE-'\n",
    "datetime_str = str(datetime.datetime.now())\n",
    "datetime_str = datetime_str.replace('.', '_')\n",
    "datetime_str = datetime_str.replace(':', '-')\n",
    "outputfilename = outfilp + datetime_str + outputfilename + filetype\n",
    "outputfilename = str(outputfilename)\n",
    "\n",
    "# CCL Code\n",
    "ccl_code = [\n",
    "'; CREDENTIAL MOVE SCRIPT'\n",
    ", 'update into credential cred'\n",
    ", 'set cred.prsnl_id = (select person_id from prsnl where username = \"SWAPME123\")'\n",
    ", ', cred.credential_cd = (select code_value from code_value where code_set = 29600 and display = \"SWAP_TO_REAL_CREDENTIAL\")'\n",
    ", ', cred.credential_type_cd = 686580 ; License from code set 254874'\n",
    ", ', cred.beg_effective_dt_tm = cnvtdatetime(curdate,curtime3)'\n",
    ", ', cred.active_ind = 1'\n",
    ", ', cred.active_status_dt_tm = cnvtdatetime(curdate,curtime3)'\n",
    ", ', cred.active_status_cd = 188 ; Active from code set 48'\n",
    ", ', cred.updt_dt_tm = cnvtdatetime(curdate,curtime3)'\n",
    ", ', cred.updt_id = reqinfo->updt_id'\n",
    ", ', cred.updt_cnt = cred.updt_cnt + 1'\n",
    ", 'where cred.credential_id  = ('\n",
    ", 'select min(credential_id)'\n",
    ", 'from credential'\n",
    ", 'where prsnl_id = 13876656 ; Credential Box user in prod'\n",
    ", ')'\n",
    ", 'and not exists ('\n",
    ", 'select 1'\n",
    ", 'from credential'\n",
    ", 'where prsnl_id = (select person_id from prsnl where username = \"SWAPME123\")'\n",
    ", 'and credential_cd = (select code_value from code_value where code_set = 29600 and display = \"SWAP_TO_REAL_CREDENTIAL\")'\n",
    ", 'and active_ind = 1'\n",
    ", ')'\n",
    ", ''\n",
    "]\n",
    "\n",
    "# READ CSV FILE\n",
    "input_data = pd.read_excel(path, sheet_name= 'DATA', dtype= 'str' )\n",
    "\n",
    "# WRITE CODE TO TXT FILE\n",
    "for index, row in input_data.iterrows():\n",
    "    # Column that has the usernames to put in the code\n",
    "    to_switch_1 = row['USERNAME']\n",
    "    to_switch_2 = row['CREDENTIAL']\n",
    "    #Write to file\n",
    "    for a_row in ccl_code:\n",
    "        # REPLACE SWAPME123 with the username in each row of the code slab\n",
    "        new_row = a_row.replace('SWAPME123', to_switch_1)\n",
    "        new_row_2 = new_row.replace('SWAP_TO_REAL_CREDENTIAL', to_switch_2)\n",
    "        f = open(outputfilename, \"a\")\n",
    "        f.write(new_row_2 + '\\n')\n",
    "f.close()"
   ]
  },
  {
   "cell_type": "markdown",
   "metadata": {},
   "source": [
    "### Create Content Manager Upload CSV"
   ]
  },
  {
   "cell_type": "code",
   "execution_count": null,
   "metadata": {},
   "outputs": [],
   "source": [
    "df = pd.read_excel(r'\\INPUT_TEMPLATES\\Personnel_template.xlsx', header=[0, 1], dtype= 'str')\n",
    "\n",
    "end_date = r\"30/12/2100\"\n",
    "\n",
    "for index, row in input_data.iterrows():\n",
    "    # Column that has the usernames to put in the code\n",
    "    a_user = row['USERNAME']\n",
    "    a_credential = row['CREDENTIAL']\n",
    "    a_fname = row['FIRST']\n",
    "    a_lname = row['LAST']\n",
    "    a_position = row['POSITION']\n",
    "    a_extid = 'WHS' + a_user\n",
    "    physician_ind = 0\n",
    "    if a_position = 'Medical Officer':\n",
    "        physician_ind = 1\n",
    "    \n",
    "    \n",
    "\n",
    "\n",
    "\n",
    "\n",
    "    #Write to file"
   ]
  }
 ],
 "metadata": {
  "kernelspec": {
   "display_name": "Python 3.9.13 64-bit (windows store)",
   "language": "python",
   "name": "python3"
  },
  "language_info": {
   "codemirror_mode": {
    "name": "ipython",
    "version": 3
   },
   "file_extension": ".py",
   "mimetype": "text/x-python",
   "name": "python",
   "nbconvert_exporter": "python",
   "pygments_lexer": "ipython3",
   "version": "3.9.13"
  },
  "orig_nbformat": 4,
  "vscode": {
   "interpreter": {
    "hash": "0d8a354d9faeed0e741e88709d0ca4cfdcbab2911b6a97752e1a88b65797b277"
   }
  }
 },
 "nbformat": 4,
 "nbformat_minor": 2
}
